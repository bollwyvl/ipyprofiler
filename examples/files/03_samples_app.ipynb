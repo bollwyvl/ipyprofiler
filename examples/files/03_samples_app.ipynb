{
 "cells": [
  {
   "cell_type": "markdown",
   "id": "c55a2785-cba1-49a6-b906-9dd7c8068547",
   "metadata": {},
   "source": [
    "# Speedscope Samples App\n",
    "\n",
    "> Run all the cells to see the demo. Not all of the samples will work.\n",
    ">\n",
    "> Use the _Create New View For Output_ context menu on the output below for\n",
    "a new tab "
   ]
  },
  {
   "cell_type": "code",
   "execution_count": null,
   "id": "ff24dfe6-7982-4679-8063-8733a49e6912",
   "metadata": {},
   "outputs": [],
   "source": [
    "import sys\n",
    "\n",
    "if __name__ == \"__main__\" and \"pyodide\" in sys.modules:\n",
    "    %pip install -r requirements.txt"
   ]
  },
  {
   "cell_type": "code",
   "execution_count": null,
   "id": "6a0143d2-c4d1-4d24-82e9-f6835dc5f203",
   "metadata": {},
   "outputs": [],
   "source": [
    "import ipywidgets as W\n",
    "\n",
    "app = W.VBox(layout={\"height\": \"100%\", \"min_height\": \"60vh\"})\n",
    "app"
   ]
  },
  {
   "cell_type": "code",
   "execution_count": null,
   "id": "66125b59-f579-4328-a304-aa82822727bd",
   "metadata": {},
   "outputs": [],
   "source": [
    "import tarfile\n",
    "from pathlib import Path\n",
    "from urllib.request import urlretrieve\n",
    "\n",
    "import traitlets as T\n",
    "\n",
    "from ipyprofiler import Flamegraph"
   ]
  },
  {
   "cell_type": "code",
   "execution_count": null,
   "id": "1f0eff44-a036-4f15-9213-37168c0e7d40",
   "metadata": {},
   "outputs": [],
   "source": [
    "URL = \"https://github.com/jlfwong/speedscope/archive/refs/tags/v1.20.0.tar.gz\""
   ]
  },
  {
   "cell_type": "markdown",
   "id": "d98a060f-89a6-44d1-ac76-e066558b048b",
   "metadata": {},
   "source": [
    "Build a function which can load samples."
   ]
  },
  {
   "cell_type": "code",
   "execution_count": null,
   "id": "34936b56-afdd-41b0-8875-44a7343e3f6d",
   "metadata": {},
   "outputs": [],
   "source": [
    "def get_samples():\n",
    "    \"\"\"Fetch the upstream tarball and load the samples.\"\"\"\n",
    "    samples = {}\n",
    "    tarball = Path(Path(URL).name)\n",
    "    if not tarball.exists():\n",
    "        urlretrieve(URL, tarball)\n",
    "    with tarfile.open(tarball) as tf:\n",
    "        for info in tf.getmembers():\n",
    "            if info.isdir() or \"sample/profiles\" not in info.name:\n",
    "                continue\n",
    "            label = info.name.split(\"sample/profiles/\")[-1].replace(\"/\", \": \")\n",
    "            samples[label] = tf.extractfile(info).read()\n",
    "    return samples"
   ]
  },
  {
   "cell_type": "markdown",
   "id": "6fb2c49e-6660-4bda-a607-29c79eedd870",
   "metadata": {},
   "source": [
    "Fetch and initialize the samples."
   ]
  },
  {
   "cell_type": "code",
   "execution_count": null,
   "id": "ac29bf26-0b91-4a80-94ef-7811cb5b492e",
   "metadata": {},
   "outputs": [],
   "source": [
    "samples = get_samples()"
   ]
  },
  {
   "cell_type": "markdown",
   "id": "67f71187-5e93-4308-acc0-533f2cdccfa0",
   "metadata": {},
   "source": [
    "Actually create the widgets."
   ]
  },
  {
   "cell_type": "code",
   "execution_count": null,
   "id": "a224114c-d1cd-4471-9611-85ded460e0ef",
   "metadata": {},
   "outputs": [],
   "source": [
    "fg = Flamegraph()\n",
    "select = W.Select(description=\"sample\", options=sorted(samples.keys()), rows=1)\n",
    "T.dlink((select, \"value\"), (fg.profile, \"value\"), lambda k: samples[k])\n",
    "app.children = [select, fg]"
   ]
  }
 ],
 "metadata": {
  "kernelspec": {
   "display_name": "Python 3 (ipykernel)",
   "language": "python",
   "name": "python3"
  },
  "language_info": {
   "codemirror_mode": {
    "name": "ipython",
    "version": 3
   },
   "file_extension": ".py",
   "mimetype": "text/x-python",
   "name": "python",
   "nbconvert_exporter": "python",
   "pygments_lexer": "ipython3",
   "version": "3.12.4"
  }
 },
 "nbformat": 4,
 "nbformat_minor": 5
}
