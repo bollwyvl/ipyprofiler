{
 "cells": [
  {
   "cell_type": "markdown",
   "id": "31fe3fe6-8a96-41c4-9467-20d178ab3c44",
   "metadata": {},
   "source": [
    "# Flamegraph\n",
    "\n",
    "[`speedscope`](https://github.com/jlfwong/speedscope) can consume a number of profiler output formats and generate interactive flame charts."
   ]
  },
  {
   "cell_type": "markdown",
   "id": "166d510c-1242-429d-963f-5d98e8cb4c68",
   "metadata": {},
   "source": [
    "## Simple JSON `Flamegraph`"
   ]
  },
  {
   "cell_type": "markdown",
   "id": "d94a3b43-bb89-4bd5-b312-95520f243012",
   "metadata": {},
   "source": [
    "The `Flamegraph` widget can draw any [`speedscope`-compatible data](https://github.com/jlfwong/speedscope/tree/v1.20.0?tab=readme-ov-file#supported-file-formats). The most general format is described by [`speedscope`'s JSON Schema](https://www.speedscope.app/file-format-schema.json)."
   ]
  },
  {
   "cell_type": "code",
   "execution_count": null,
   "id": "6a2d2bc4-5366-4013-b734-7f7778e6138f",
   "metadata": {},
   "outputs": [],
   "source": [
    "import sys\n",
    "\n",
    "if \"pyodide\" in sys.modules:\n",
    "    %pip install -r requirements.txt"
   ]
  },
  {
   "cell_type": "code",
   "execution_count": null,
   "id": "44ecaae3-9e01-41cf-bbee-1b35b4ced7f4",
   "metadata": {},
   "outputs": [],
   "source": [
    "from ipyprofiler import Flamegraph\n",
    "\n",
    "fg = Flamegraph()\n",
    "fg"
   ]
  },
  {
   "cell_type": "markdown",
   "id": "83617e40-c79b-44c0-9b90-d62aa4ac078b",
   "metadata": {},
   "source": [
    "### Flamegraph JSON"
   ]
  },
  {
   "cell_type": "markdown",
   "id": "0263b3e2-0229-4ce9-a08e-4783355297d3",
   "metadata": {},
   "source": [
    "By default, `Flamegraph` loads a very simple profile derived from the [simplest example](https://github.com/jlfwong/speedscope/blob/v1.20.0/sample/profiles/speedscope/0.0.1/simple.speedscope.json) \n",
    "which conforms to the JSON Schema. This is modeled as a separate widget with a `.value` trait, allowing for multiple displays to share the same data. If displayed, it shows the underlying JSON."
   ]
  },
  {
   "cell_type": "code",
   "execution_count": null,
   "id": "9b14c73e-fd85-4fe6-8a60-bdd45fce434c",
   "metadata": {},
   "outputs": [],
   "source": [
    "fg.profile"
   ]
  },
  {
   "cell_type": "code",
   "execution_count": null,
   "id": "1291297e-a2a9-46b3-ada4-815f6ae91e9d",
   "metadata": {},
   "outputs": [],
   "source": [
    "print(fg.profile.value)"
   ]
  },
  {
   "cell_type": "markdown",
   "id": "6afe8481-2142-48c6-aa25-0bd9669612b1",
   "metadata": {},
   "source": [
    "Some help is available for keyboard and mouse interactions when the `iframe` is selected."
   ]
  },
  {
   "cell_type": "code",
   "execution_count": null,
   "id": "d6f37492-941d-4922-ad4c-97358f605d67",
   "metadata": {},
   "outputs": [],
   "source": [
    "fg.help()"
   ]
  },
  {
   "cell_type": "markdown",
   "id": "48a92ee6-cac8-45dd-bae1-72312ff10e44",
   "metadata": {},
   "source": [
    "Setting the `profile` to `None` reveals the default landing screen, but for sandbox reasons, many of the links don't work, such as _<kbd>click here</kbd>_"
   ]
  },
  {
   "cell_type": "code",
   "execution_count": null,
   "id": "396802e9-61ce-452b-8a42-5733d353b197",
   "metadata": {},
   "outputs": [],
   "source": [
    "fg.profile = None\n",
    "fg"
   ]
  },
  {
   "cell_type": "markdown",
   "id": "34ee48d5-5db9-40d6-9e7b-612e0994e250",
   "metadata": {},
   "source": [
    "> ## More Demos\n",
    ">\n",
    "> [⬆️ back to index](00_index.ipynb) | [➡️ Python](02_python.ipynb)"
   ]
  }
 ],
 "metadata": {
  "kernelspec": {
   "display_name": "Python 3 (ipykernel)",
   "language": "python",
   "name": "python3"
  },
  "language_info": {
   "codemirror_mode": {
    "name": "ipython",
    "version": 3
   },
   "file_extension": ".py",
   "mimetype": "text/x-python",
   "name": "python",
   "nbconvert_exporter": "python",
   "pygments_lexer": "ipython3",
   "version": "3.12.4"
  }
 },
 "nbformat": 4,
 "nbformat_minor": 5
}
